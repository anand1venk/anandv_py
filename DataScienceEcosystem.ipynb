{
 "cells": [
  {
   "cell_type": "code",
   "execution_count": null,
   "id": "912eef9a",
   "metadata": {},
   "outputs": [],
   "source": [
    "#h1 markdown cell"
   ]
  },
  {
   "cell_type": "markdown",
   "id": "1c449f43",
   "metadata": {},
   "source": [
    "# H1: Data Science Tools and Ecosystem"
   ]
  },
  {
   "cell_type": "markdown",
   "id": "a124085d",
   "metadata": {},
   "source": [
    "In this notebook, Data Science Tools and Ecosystem are summarized."
   ]
  },
  {
   "cell_type": "markdown",
   "id": "10944879",
   "metadata": {},
   "source": [
    "Some of the popular languages that Data Scientists use are:\n",
    "1. Python\n",
    "2. R\n",
    "3. MATLAB"
   ]
  },
  {
   "cell_type": "markdown",
   "id": "4e97627e",
   "metadata": {},
   "source": [
    "Some of the commonly used libraries used by Data Scientists include:\n",
    "1. PANDAS\n",
    "2. NUMPY\n",
    "3. Matplotlib\n",
    "4. Scikit-learn"
   ]
  },
  {
   "cell_type": "markdown",
   "id": "9909194c",
   "metadata": {},
   "source": [
    "| Data Science Tools | \n",
    "| -------------------|\n",
    "| JupyterLab|\n",
    "| R Studio |\n",
    "| Zepplin Notebook |\n",
    "| VS Code |\n",
    "\n"
   ]
  },
  {
   "cell_type": "markdown",
   "id": "81e5a0b9",
   "metadata": {},
   "source": [
    "### Below are a few examples of evaluating arithmetic expressions in Python.\n",
    "2+2 = 4\n",
    "\n",
    "2-2 = 0\n",
    "\n",
    "2*3 = 6\n"
   ]
  },
  {
   "cell_type": "code",
   "execution_count": 4,
   "id": "89bb5719",
   "metadata": {},
   "outputs": [
    {
     "data": {
      "text/plain": [
       "17"
      ]
     },
     "execution_count": 4,
     "metadata": {},
     "output_type": "execute_result"
    }
   ],
   "source": [
    "# This a simple arithmetic expression to mutiply then add integers.\n",
    "\n",
    "(3*4)+5"
   ]
  },
  {
   "cell_type": "code",
   "execution_count": 5,
   "id": "a25744df",
   "metadata": {},
   "outputs": [
    {
     "name": "stdout",
     "output_type": "stream",
     "text": [
      "200 mins converted to hours = 3.3333333333333335\n"
     ]
    }
   ],
   "source": [
    "#This will convert 200 minutes to hours by diving by 60\n",
    "\n",
    "a = 200/60\n",
    "print ('200 mins converted to hours =', a)"
   ]
  },
  {
   "cell_type": "markdown",
   "id": "6d6fec54",
   "metadata": {},
   "source": [
    "## Author\n",
    "Anand Venkataraman"
   ]
  },
  {
   "cell_type": "code",
   "execution_count": null,
   "id": "ccca271c",
   "metadata": {},
   "outputs": [],
   "source": []
  }
 ],
 "metadata": {
  "kernelspec": {
   "display_name": "Python 3 (ipykernel)",
   "language": "python",
   "name": "python3"
  },
  "language_info": {
   "codemirror_mode": {
    "name": "ipython",
    "version": 3
   },
   "file_extension": ".py",
   "mimetype": "text/x-python",
   "name": "python",
   "nbconvert_exporter": "python",
   "pygments_lexer": "ipython3",
   "version": "3.11.5"
  }
 },
 "nbformat": 4,
 "nbformat_minor": 5
}
